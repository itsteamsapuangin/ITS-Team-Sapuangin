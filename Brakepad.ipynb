{
 "cells": [
  {
   "cell_type": "code",
   "execution_count": 1,
   "id": "35cbcfd0",
   "metadata": {},
   "outputs": [
    {
     "name": "stdout",
     "output_type": "stream",
     "text": [
      "Brakepad thickness: 10.75 mm\n",
      "Brakepad:  53 %\n"
     ]
    }
   ],
   "source": [
    "#Input from sensor\n",
    "input_analog=600 #Analog value are obtained from sensor (linear potentio) \n",
    "km=20000 #Mileage are obtained from odometry in km\n",
    "\n",
    "#Brakepad thickness calculation\n",
    "d_a=1 #Sensor initial condition in mm\n",
    "d_max=26 #Maximum sensor displacement in mm\n",
    "bit=1023 #Analog to digital converter 10 bit\n",
    "d_bpmax=20 #Maximum brakepad thickness in mm\n",
    "d_gapin=5 #initial gap between brake pad and disc in mm\n",
    "\n",
    "d_sen=(input_analog/bit)*d_max #Sensor reading value in mm\n",
    "#print (d_sen)\n",
    "d_gap=d_sen-d_a #Recent gap between brake pad and disc in mm\n",
    "#print (d_gap)\n",
    "d_bp=d_bpmax-(d_gap-d_gapin) #Result brakepad thickness in mm\n",
    "formatted_d_bp = \"{:.2f}\".format(d_bp)\n",
    "print (\"Brakepad thickness:\",formatted_d_bp, \"mm\")\n",
    "\n",
    "#Brakepad percentage\n",
    "percentage=(d_bp/d_bpmax)*100\n",
    "percentage=int(percentage)\n",
    "print (\"Brakepad: \", percentage, \"%\")\n",
    "\n"
   ]
  },
  {
   "cell_type": "code",
   "execution_count": 2,
   "id": "8258e2d3",
   "metadata": {},
   "outputs": [
    {
     "name": "stdout",
     "output_type": "stream",
     "text": [
      "['Caution']\n"
     ]
    }
   ],
   "source": [
    "#Decision-Tree-for making warning\n",
    "from sklearn import tree\n",
    "from graphviz import Digraph\n",
    "clf = tree.DecisionTreeClassifier() \n",
    "\n",
    "#[thickness-mm, percentage-%, mileage]                                             \n",
    "X = [ [20, 100, 1440],                                                              \n",
    "      [16, 80, 9870],                                                              \n",
    "      [12, 60, 17720],                                                              \n",
    "      [4, 20, 29106],                                                              \n",
    "      [2, 10, 37910]]                                                              \n",
    "\n",
    "Y = ['Mint', 'Very Good', 'Caution', 'Danger', 'Replace']\n",
    "\n",
    "clf = clf.fit(X, Y)                                                             \n",
    "prediction = clf.predict([[d_bp, percentage, km]])                                         \n",
    "print(prediction) \n",
    "tree.export_graphviz(clf,\n",
    "    out_file='tree1.dot')     \n",
    "\n",
    "import graphviz\n",
    "from sklearn.tree import export_graphviz\n",
    "graphviz.Source.from_file('tree1.dot')\n",
    "! dot -Tpng tree1.dot -o tree.png \n",
    "\n",
    "\n",
    "#Print percentage and warning in GUI\n",
    "from tkinter import * \n",
    "from tkinter import messagebox\n",
    "  \n",
    "root = Tk()\n",
    "root.title('AI System')\n",
    "root.geometry(\"480x200\")\n",
    "\n",
    "prediction=str(prediction)\n",
    "prediction_bersih1=prediction.replace(\"[\",\"\")\n",
    "prediction_bersih2=prediction_bersih1.replace(\"]\",\"\")\n",
    "prediction_bersih3=prediction_bersih2.replace(\"'\",\"\")\n",
    "\n",
    "w = Label(root, text = 'Brakepad Percentage : %s %%\\n' %(percentage), font=('Century 20 bold')) \n",
    "w.pack()\n",
    "w = Label(root, text = 'Brakepad Thickness : %s mm' %(formatted_d_bp), font=('Century 20 bold')) \n",
    "w.pack()\n",
    "\n",
    "w = Label(root, text = 'Brakepads are %s' %(prediction_bersih3), font=('Century 20 bold')) \n",
    "w.pack()\n",
    "\n",
    "root.mainloop()"
   ]
  },
  {
   "cell_type": "code",
   "execution_count": null,
   "id": "52616322",
   "metadata": {},
   "outputs": [],
   "source": []
  }
 ],
 "metadata": {
  "kernelspec": {
   "display_name": "Python 3 (ipykernel)",
   "language": "python",
   "name": "python3"
  },
  "language_info": {
   "codemirror_mode": {
    "name": "ipython",
    "version": 3
   },
   "file_extension": ".py",
   "mimetype": "text/x-python",
   "name": "python",
   "nbconvert_exporter": "python",
   "pygments_lexer": "ipython3",
   "version": "3.9.7"
  }
 },
 "nbformat": 4,
 "nbformat_minor": 5
}
