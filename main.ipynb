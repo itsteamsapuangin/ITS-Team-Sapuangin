{
 "cells": [
  {
   "cell_type": "code",
   "execution_count": null,
   "id": "36d74fd1",
   "metadata": {},
   "outputs": [
    {
     "name": "stdout",
     "output_type": "stream",
     "text": [
      "<class 'pandas.core.frame.DataFrame'>\n",
      "RangeIndex: 12250000 entries, 0 to 12249999\n",
      "Data columns (total 8 columns):\n",
      " #   Column  Dtype  \n",
      "---  ------  -----  \n",
      " 0   0       float64\n",
      " 1   1       float64\n",
      " 2   2       float64\n",
      " 3   3       float64\n",
      " 4   4       float64\n",
      " 5   5       float64\n",
      " 6   6       float64\n",
      " 7   7       float64\n",
      "dtypes: float64(8)\n",
      "memory usage: 747.7 MB\n"
     ]
    }
   ],
   "source": [
    "%run motor_maintenance.ipynb\n",
    "print(\"motor_maintanance succesfully executed\")"
   ]
  },
  {
   "cell_type": "code",
   "execution_count": null,
   "id": "356431a4",
   "metadata": {},
   "outputs": [],
   "source": [
    "%run battery_maintenance.ipynb\n",
    "print(\"battery_maintenance succesfully executed\")"
   ]
  },
  {
   "cell_type": "code",
   "execution_count": null,
   "id": "e3ed707d",
   "metadata": {},
   "outputs": [],
   "source": [
    "%run brakepad_maintenance.ipynb\n",
    "print(\"brakepad_maintenance succesfully executed\")"
   ]
  },
  {
   "cell_type": "code",
   "execution_count": null,
   "id": "6f48ab2c",
   "metadata": {},
   "outputs": [],
   "source": [
    "%run ./best_workshop.ipynb\n"
   ]
  },
  {
   "cell_type": "code",
   "execution_count": null,
   "id": "13790adf",
   "metadata": {},
   "outputs": [],
   "source": [
    "print(\"workshop has been found. see final result in final_result.xlsx\")"
   ]
  },
  {
   "cell_type": "code",
   "execution_count": null,
   "id": "3fcae02c",
   "metadata": {},
   "outputs": [],
   "source": []
  }
 ],
 "metadata": {
  "kernelspec": {
   "display_name": "Python 3 (ipykernel)",
   "language": "python",
   "name": "python3"
  },
  "language_info": {
   "codemirror_mode": {
    "name": "ipython",
    "version": 3
   },
   "file_extension": ".py",
   "mimetype": "text/x-python",
   "name": "python",
   "nbconvert_exporter": "python",
   "pygments_lexer": "ipython3",
   "version": "3.9.10"
  }
 },
 "nbformat": 4,
 "nbformat_minor": 5
}
