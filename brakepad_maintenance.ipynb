{
 "cells": [
  {
   "cell_type": "code",
   "execution_count": 9,
   "id": "35cbcfd0",
   "metadata": {},
   "outputs": [
    {
     "name": "stdout",
     "output_type": "stream",
     "text": [
      "Brakepad thickness: 19.65 mm\n",
      "Brakepad:  98 %\n"
     ]
    }
   ],
   "source": [
    "#Input from sensor\n",
    "input_analog=250 #Analog value are obtained from sensor (linear potentio) \n",
    "km=20000 #Mileage are obtained from odometry in km\n",
    "\n",
    "#Brakepad thickness calculation\n",
    "d_a=1 #Sensor initial condition in mm\n",
    "d_max=26 #Maximum sensor displacement in mm\n",
    "bit=1023 #Analog to digital converter 10 bit\n",
    "d_bpmax=20 #Maximum brakepad thickness in mm\n",
    "d_gapin=5 #initial gap between brake pad and disc in mm\n",
    "\n",
    "d_sen=(input_analog/bit)*d_max #Sensor reading value in mm\n",
    "#print (d_sen)\n",
    "d_gap=d_sen-d_a #Recent gap between brake pad and disc in mm\n",
    "#print (d_gap)\n",
    "d_bp=d_bpmax-(d_gap-d_gapin) #Result brakepad thickness in mm\n",
    "formatted_d_bp = \"{:.2f}\".format(d_bp)\n",
    "print (\"Brakepad thickness:\",formatted_d_bp, \"mm\")\n",
    "\n",
    "#Brakepad percentage\n",
    "percentage=(d_bp/d_bpmax)*100\n",
    "percentage=int(percentage)\n",
    "print (\"Brakepad: \", percentage, \"%\")\n",
    "\n"
   ]
  },
  {
   "cell_type": "code",
   "execution_count": 10,
   "id": "8258e2d3",
   "metadata": {},
   "outputs": [
    {
     "name": "stdout",
     "output_type": "stream",
     "text": [
      "['Caution']\n"
     ]
    },
    {
     "name": "stderr",
     "output_type": "stream",
     "text": [
      "'dot' is not recognized as an internal or external command,\n",
      "operable program or batch file.\n"
     ]
    }
   ],
   "source": [
    "#Decision-Tree-for making warning\n",
    "from sklearn import tree\n",
    "from graphviz import Digraph\n",
    "clf = tree.DecisionTreeClassifier() \n",
    "\n",
    "#[thickness-mm, percentage-%, mileage]                                             \n",
    "X = [ [20, 100, 1440],                                                              \n",
    "      [16, 80, 9870],                                                              \n",
    "      [12, 60, 17720],                                                              \n",
    "      [4, 20, 29106],                                                              \n",
    "      [2, 10, 37910]]                                                              \n",
    "\n",
    "Y = ['Mint', 'Very Good', 'Caution', 'Danger', 'Replace']\n",
    "\n",
    "clf = clf.fit(X, Y)                                                             \n",
    "prediction = clf.predict([[d_bp, percentage, km]])                                         \n",
    "print(prediction) \n",
    "tree.export_graphviz(clf,\n",
    "    out_file='tree1.dot')     \n",
    "\n",
    "import graphviz\n",
    "from sklearn.tree import export_graphviz\n",
    "graphviz.Source.from_file('tree1.dot')\n",
    "! dot -Tpng tree1.dot -o tree.png \n",
    "\n",
    "prediction=str(prediction)\n",
    "prediction_bersih1=prediction.replace(\"[\",\"\")\n",
    "prediction_bersih2=prediction_bersih1.replace(\"]\",\"\")\n",
    "prediction_bersih3=prediction_bersih2.replace(\"'\",\"\")"
   ]
  },
  {
   "cell_type": "code",
   "execution_count": 11,
   "id": "52616322",
   "metadata": {},
   "outputs": [
    {
     "data": {
      "text/html": [
       "<div>\n",
       "<style scoped>\n",
       "    .dataframe tbody tr th:only-of-type {\n",
       "        vertical-align: middle;\n",
       "    }\n",
       "\n",
       "    .dataframe tbody tr th {\n",
       "        vertical-align: top;\n",
       "    }\n",
       "\n",
       "    .dataframe thead th {\n",
       "        text-align: right;\n",
       "    }\n",
       "</style>\n",
       "<table border=\"1\" class=\"dataframe\">\n",
       "  <thead>\n",
       "    <tr style=\"text-align: right;\">\n",
       "      <th></th>\n",
       "      <th>battery</th>\n",
       "      <th>brakepad</th>\n",
       "      <th>motor</th>\n",
       "    </tr>\n",
       "  </thead>\n",
       "  <tbody>\n",
       "    <tr>\n",
       "      <th>0</th>\n",
       "      <td>NORMAL</td>\n",
       "      <td>NORMAL</td>\n",
       "      <td>FAIL</td>\n",
       "    </tr>\n",
       "  </tbody>\n",
       "</table>\n",
       "</div>"
      ],
      "text/plain": [
       "  battery brakepad motor\n",
       "0  NORMAL   NORMAL  FAIL"
      ]
     },
     "execution_count": 11,
     "metadata": {},
     "output_type": "execute_result"
    }
   ],
   "source": [
    "#Import dataset\n",
    "import pandas as pd\n",
    "\n",
    "excel_file=r'.\\dataset\\need_maintenance.xlsx'\n",
    "df = pd.read_excel (excel_file, index_col=0)\n",
    "df.head()"
   ]
  },
  {
   "cell_type": "code",
   "execution_count": 13,
   "id": "2989d607",
   "metadata": {},
   "outputs": [
    {
     "name": "stdout",
     "output_type": "stream",
     "text": [
      "  battery brakepad motor\n",
      "0  NORMAL     FAIL  FAIL\n"
     ]
    }
   ],
   "source": [
    "#Edit brakepad conditon in dataset\n",
    "if prediction_bersih3=='MINT' or prediction_bersih3=='Very Good':\n",
    "    if df.iloc[0][1]=='FAIL':\n",
    "        df['brakepad'] = df['brakepad'].replace(['FAIL'],'NORMAL')\n",
    "elif prediction_bersih3=='Danger' or  prediction_bersih3=='Caution' or prediction_bersih3=='Replace':\n",
    "    if df.iloc[0][1]=='NORMAL':\n",
    "        df['brakepad'] = df['brakepad'].replace(['NORMAL'],'FAIL')\n",
    "\n",
    "df.to_excel(excel_file)\n",
    "print(df.head())"
   ]
  },
  {
   "cell_type": "code",
   "execution_count": null,
   "id": "9bf802ea",
   "metadata": {},
   "outputs": [],
   "source": []
  }
 ],
 "metadata": {
  "kernelspec": {
   "display_name": "Python 3 (ipykernel)",
   "language": "python",
   "name": "python3"
  },
  "language_info": {
   "codemirror_mode": {
    "name": "ipython",
    "version": 3
   },
   "file_extension": ".py",
   "mimetype": "text/x-python",
   "name": "python",
   "nbconvert_exporter": "python",
   "pygments_lexer": "ipython3",
   "version": "3.9.10"
  }
 },
 "nbformat": 4,
 "nbformat_minor": 5
}
